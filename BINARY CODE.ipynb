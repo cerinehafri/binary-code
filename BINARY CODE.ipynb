{
 "cells": [
  {
   "cell_type": "code",
   "execution_count": null,
   "id": "a8fbc0fd",
   "metadata": {},
   "outputs": [],
   "source": [
    "def binary_search(sequence,item):\n",
    "    began_index=0\n",
    "    end_endex= len(sequence-1)"
   ]
  },
  {
   "cell_type": "code",
   "execution_count": 30,
   "id": "7b5085fc",
   "metadata": {},
   "outputs": [],
   "source": [
    "x=[5,0,3,2]\n",
    "def cerine_sort(a):\n",
    "    for i in range(len(a)):\n",
    "        for j in range(len(a) - 1):\n",
    "            if a[j] > a[j+1]:\n",
    "                    a[j+1], a[j] = a[j], a[j+1]\n",
    "\n",
    "    print (a)"
   ]
  },
  {
   "cell_type": "code",
   "execution_count": 35,
   "id": "c11dcfb6",
   "metadata": {},
   "outputs": [
    {
     "name": "stdout",
     "output_type": "stream",
     "text": [
      "[0, 2, 3, 5]\n"
     ]
    }
   ],
   "source": [
    "cerine_sort(x)"
   ]
  },
  {
   "cell_type": "code",
   "execution_count": 36,
   "id": "6220e4b6",
   "metadata": {},
   "outputs": [
    {
     "name": "stdout",
     "output_type": "stream",
     "text": [
      "False\n",
      "True\n"
     ]
    }
   ],
   "source": [
    "#Answer 1 : checkpoints\n",
    "def binary_search(item_list,item):\n",
    "\tfirst = 0\n",
    "\tlast = len(item_list)-1\n",
    "\tfound = False\n",
    "\twhile( first<=last and not found):\n",
    "\t\tmid = (first + last)//2\n",
    "\t\tif item_list[mid] == item :\n",
    "\t\t\tfound = True\n",
    "\t\telse:\n",
    "\t\t\tif item < item_list[mid]:\n",
    "\t\t\t\tlast = mid - 1\n",
    "\t\t\telse:\n",
    "\t\t\t\tfirst = mid + 1\t\n",
    "\treturn found\n",
    "\t\n",
    "print(binary_search([1,2,3,5,8], 6))\n",
    "print(binary_search([1,2,3,5,8], 5))\n"
   ]
  },
  {
   "cell_type": "code",
   "execution_count": 39,
   "id": "7fecd91a",
   "metadata": {},
   "outputs": [
    {
     "name": "stdout",
     "output_type": "stream",
     "text": [
      "81\n"
     ]
    }
   ],
   "source": [
    "#Answer 2 : checkpoints\n",
    "def power(a,b):\n",
    "\tif b==0:\n",
    "\t\treturn 1\n",
    "\telif a==0:\n",
    "\t\treturn 0\n",
    "\telif b==1:\n",
    "\t\treturn a\n",
    "\telse:\n",
    "\t\treturn a*power(a,b-1)\n",
    "\n",
    "print(power(3,4))\n"
   ]
  },
  {
   "cell_type": "code",
   "execution_count": 83,
   "id": "532e18e4",
   "metadata": {},
   "outputs": [
    {
     "name": "stdout",
     "output_type": "stream",
     "text": [
      "Sorted array is:\n",
      " 13,  22,  29,  37,  46,  49,  52,  56,  71, \n",
      "0.03125 seconds\n"
     ]
    }
   ],
   "source": [
    "# Answer 3:Python program for implementation of Bubble Sort\n",
    "\n",
    "def bubbleSort(arr):\n",
    "    \n",
    "    n = len(arr)\n",
    "    swapped = False\n",
    "    for i in range(n-1):\n",
    "        for j in range(0, n-i-1):\n",
    "            if arr[j] > arr[j + 1]:\n",
    "                swapped = True\n",
    "                arr[j], arr[j + 1] = arr[j + 1], arr[j]\n",
    "            if not swapped:\n",
    "                return\n",
    "    print(\"Sorted array is:\")\n",
    "    for i in range(len(arr)):\n",
    "\t    print(\"% d\" % arr[i], end=\", \")\n",
    "\n",
    "arr = [29,13,22,37,52,49,46,71,56]\n",
    "\n",
    "import time\n",
    "start_time =  time.perf_counter() and time.process_time()\n",
    "bubbleSort(arr)\n",
    "print()\n",
    "print ( time.perf_counter() and time.process_time() - start_time, \"seconds\")\n"
   ]
  },
  {
   "cell_type": "code",
   "execution_count": 121,
   "id": "b5e32d57",
   "metadata": {},
   "outputs": [
    {
     "name": "stdout",
     "output_type": "stream",
     "text": [
      "Splitting  [29, 13, 22, 37, 52, 49, 46, 71, 56]\n",
      "Splitting  [29, 13, 22, 37]\n",
      "Splitting  [29, 13]\n",
      "Splitting  [29]\n",
      "Merging  [29]\n",
      "Splitting  [13]\n",
      "Merging  [13]\n",
      "Merging  [13, 29]\n",
      "Splitting  [22, 37]\n",
      "Splitting  [22]\n",
      "Merging  [22]\n",
      "Splitting  [37]\n",
      "Merging  [37]\n",
      "Merging  [22, 37]\n",
      "Merging  [13, 22, 29, 37]\n",
      "Splitting  [52, 49, 46, 71, 56]\n",
      "Splitting  [52, 49]\n",
      "Splitting  [52]\n",
      "Merging  [52]\n",
      "Splitting  [49]\n",
      "Merging  [49]\n",
      "Merging  [49, 52]\n",
      "Splitting  [46, 71, 56]\n",
      "Splitting  [46]\n",
      "Merging  [46]\n",
      "Splitting  [71, 56]\n",
      "Splitting  [71]\n",
      "Merging  [71]\n",
      "Splitting  [56]\n",
      "Merging  [56]\n",
      "Merging  [56, 71]\n",
      "Merging  [46, 56, 71]\n",
      "Merging  [46, 49, 52, 56, 71]\n",
      "Merging  [13, 22, 29, 37, 46, 49, 52, 56, 71]\n",
      "\n",
      "0.0625 seconds\n"
     ]
    }
   ],
   "source": [
    "# Answer 4:Python program for implementation of merge Sort\n",
    "\n",
    "def mergeSort(nlist):\n",
    "    print(\"Splitting \",nlist)\n",
    "    if len(nlist)>1:\n",
    "        mid = len(nlist)//2\n",
    "        lefthalf = nlist[:mid]\n",
    "        righthalf = nlist[mid:]\n",
    "\n",
    "        mergeSort(lefthalf)\n",
    "        mergeSort(righthalf)\n",
    "        i=j=k=0       \n",
    "        while i < len(lefthalf) and j < len(righthalf):\n",
    "            if lefthalf[i] < righthalf[j]:\n",
    "                nlist[k]=lefthalf[i]\n",
    "                i=i+1\n",
    "            else:\n",
    "                nlist[k]=righthalf[j]\n",
    "                j=j+1\n",
    "            k=k+1\n",
    "\n",
    "        while i < len(lefthalf):\n",
    "            nlist[k]=lefthalf[i]\n",
    "            i=i+1\n",
    "            k=k+1\n",
    "\n",
    "        while j < len(righthalf):\n",
    "            nlist[k]=righthalf[j]\n",
    "            j=j+1\n",
    "            k=k+1\n",
    "    print(\"Merging \",nlist)\n",
    "\n",
    "nlist = [29,13,22,37,52,49,46,71,56]\n",
    "\n",
    "import time\n",
    "start_time =  time.perf_counter() and time.process_time()\n",
    "mergeSort(nlist)\n",
    "print()\n",
    "print ( time.perf_counter() and time.process_time() - start_time, \"seconds\")\n"
   ]
  },
  {
   "cell_type": "code",
   "execution_count": 123,
   "id": "fd7fca91",
   "metadata": {},
   "outputs": [
    {
     "name": "stdout",
     "output_type": "stream",
     "text": [
      "[13, 22, 29, 37, 46, 49, 52, 56, 71]\n"
     ]
    }
   ],
   "source": [
    "# Answer 5:Python program for implementation of quicksort\n",
    "\n",
    "def partition(l, r, nums):\n",
    "\tpivot, ptr = nums[r], l\n",
    "\tfor i in range(l, r):\n",
    "\t\tif nums[i] <= pivot:\n",
    "\t\t\tnums[i], nums[ptr] = nums[ptr], nums[i]\n",
    "\t\t\tptr += 1\n",
    "\tnums[ptr], nums[r] = nums[r], nums[ptr]\n",
    "\treturn ptr\n",
    "def quicksort(l, r, nums):\n",
    "\tif len(nums) == 1: # Terminating Condition for recursion. VERY IMPORTANT!\n",
    "\t\treturn nums\n",
    "\tif l < r:\n",
    "\t\tpi = partition(l, r, nums)\n",
    "\t\tquicksort(l, pi-1, nums) # Recursively sorting the left values\n",
    "\t\tquicksort(pi+1, r, nums) # Recursively sorting the right values\n",
    "\treturn nums\n",
    "\n",
    "\n",
    "example = [29,13,22,37,52,49,46,71,56]\n",
    "\n",
    "quicksort(0, len(example)-1, example)\n",
    "print(quicksort(0, len(example)-1, example))\n"
   ]
  },
  {
   "cell_type": "code",
   "execution_count": 126,
   "id": "466a89d7",
   "metadata": {},
   "outputs": [
    {
     "name": "stdout",
     "output_type": "stream",
     "text": [
      "0.0 seconds\n"
     ]
    }
   ],
   "source": [
    "import time\n",
    "start_time =  time.perf_counter() and time.process_time()\n",
    "quicksort(0, len(example)-1, example)\n",
    "print( time.perf_counter() and time.process_time() - start_time, \"seconds\")\n",
    "# why it didnt't count the time ????"
   ]
  },
  {
   "cell_type": "code",
   "execution_count": null,
   "id": "5c0c8e2b",
   "metadata": {},
   "outputs": [],
   "source": []
  }
 ],
 "metadata": {
  "kernelspec": {
   "display_name": "Python 3 (ipykernel)",
   "language": "python",
   "name": "python3"
  },
  "language_info": {
   "codemirror_mode": {
    "name": "ipython",
    "version": 3
   },
   "file_extension": ".py",
   "mimetype": "text/x-python",
   "name": "python",
   "nbconvert_exporter": "python",
   "pygments_lexer": "ipython3",
   "version": "3.9.12"
  }
 },
 "nbformat": 4,
 "nbformat_minor": 5
}
